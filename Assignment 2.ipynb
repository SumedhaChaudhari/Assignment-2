{
 "cells": [
  {
   "cell_type": "code",
   "execution_count": null,
   "metadata": {},
   "outputs": [],
   "source": [
    "Question 1:"
   ]
  },
  {
   "cell_type": "code",
   "execution_count": 1,
   "metadata": {},
   "outputs": [
    {
     "name": "stdout",
     "output_type": "stream",
     "text": [
      "2\n",
      "4\n",
      "5\n",
      "Cant append since it is an odd number\n",
      "6\n",
      "8\n",
      "10\n",
      "12\n",
      "14\n",
      "16\n",
      "18\n",
      "\n",
      "\n",
      " [2, 4, 6, 8, 10, 12, 14, 16, 18]\n"
     ]
    }
   ],
   "source": [
    "list =[]\n",
    "n=10\n",
    "for i in range (0,n):\n",
    "    ele = int(input())\n",
    "    if(ele%2==0):\n",
    "        list.append(ele)\n",
    "    else:\n",
    "        print(\"Cant append since it is an odd number\")\n",
    "print(\"\\n\\n\",list)"
   ]
  },
  {
   "cell_type": "code",
   "execution_count": null,
   "metadata": {},
   "outputs": [],
   "source": [
    "Question 2 :"
   ]
  },
  {
   "cell_type": "code",
   "execution_count": null,
   "metadata": {},
   "outputs": [],
   "source": [
    "LIST COMPREHENSION EXAMPLE"
   ]
  },
  {
   "cell_type": "code",
   "execution_count": 2,
   "metadata": {},
   "outputs": [
    {
     "name": "stdout",
     "output_type": "stream",
     "text": [
      "2.84 µs ± 80.3 ns per loop (mean ± std. dev. of 7 runs, 100000 loops each)\n"
     ]
    }
   ],
   "source": [
    "def square(arr):\n",
    "    return[i**2 for i in arr]\n",
    "%timeit square(range(0,10))\n",
    "    "
   ]
  },
  {
   "cell_type": "code",
   "execution_count": null,
   "metadata": {},
   "outputs": [],
   "source": [
    "Question 3:"
   ]
  },
  {
   "cell_type": "code",
   "execution_count": 3,
   "metadata": {},
   "outputs": [
    {
     "name": "stdout",
     "output_type": "stream",
     "text": [
      "5\n",
      "{1: 1, 2: 4, 3: 9, 4: 16}\n"
     ]
    }
   ],
   "source": [
    "d = dict()\n",
    "n=int(input())\n",
    "for i in range(1,n):\n",
    "      d[i]=i*i\n",
    "print(d)"
   ]
  },
  {
   "cell_type": "code",
   "execution_count": null,
   "metadata": {},
   "outputs": [],
   "source": [
    "Question 4 :"
   ]
  },
  {
   "cell_type": "code",
   "execution_count": 9,
   "metadata": {},
   "outputs": [
    {
     "name": "stdout",
     "output_type": "stream",
     "text": [
      "5\n",
      "3\n",
      "3\n",
      "2\n",
      "1\n",
      "2\n",
      "0\n"
     ]
    }
   ],
   "source": [
    "pos = {\"x\":0,\"y\":0}\n",
    "num = int(input())\n",
    "\n",
    "for _ in range (num):\n",
    "    command =  input().split(\" \")      # ACCEPT MOVEMENT COMMAND AND STORE AS A LIST\n",
    "    if command[0] == \"UP\":             # EXTRACT DIRECTION AND COMPARE\n",
    "        pos[\"y\"] += int(command[1])    # INCREMENT/DECREMENT APPROPRIATE CO-ORDINATES\n",
    "    if command[0] == \"DOWN\":\n",
    "        pos[\"y\"] -= int(command[1])\n",
    "    if command[0] == \"LEFT\":\n",
    "        pos[\"x\"] -= int(command[1])\n",
    "    if command[0] == \"RIGHT\":\n",
    "        pos[\"x\"] += int(command[1])\n",
    "\n",
    "print(int(round((pos[\"x\"]**2 + pos[\"y\"]**2)**0.5)))   # DISTANCE FROM ORIGIN"
   ]
  },
  {
   "cell_type": "code",
   "execution_count": null,
   "metadata": {},
   "outputs": [],
   "source": []
  },
  {
   "cell_type": "code",
   "execution_count": null,
   "metadata": {},
   "outputs": [],
   "source": []
  }
 ],
 "metadata": {
  "kernelspec": {
   "display_name": "Python 3",
   "language": "python",
   "name": "python3"
  },
  "language_info": {
   "codemirror_mode": {
    "name": "ipython",
    "version": 3
   },
   "file_extension": ".py",
   "mimetype": "text/x-python",
   "name": "python",
   "nbconvert_exporter": "python",
   "pygments_lexer": "ipython3",
   "version": "3.8.3"
  }
 },
 "nbformat": 4,
 "nbformat_minor": 4
}
